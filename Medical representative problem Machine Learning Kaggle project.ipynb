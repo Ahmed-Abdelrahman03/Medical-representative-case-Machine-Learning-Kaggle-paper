{
 "cells": [
  {
   "cell_type": "markdown",
   "metadata": {},
   "source": [
    "# Medical representative problem Machine Learning Kaggle project"
   ]
  },
  {
   "cell_type": "markdown",
   "metadata": {},
   "source": [
    "# Ahmed Abelrahman\n",
    "# January  ,2020\n",
    " ### [Linkedin](https://www.linkedin.com/in/ahmed-abdelrahman-27a582167/)\n",
    " \n",
    "### [Github](https://github.com/Ahmed-Abdelrahman03)"
   ]
  },
  {
   "cell_type": "markdown",
   "metadata": {},
   "source": [
    "----\n",
    "## who's the  Medical representative, and what is he doing  ? "
   ]
  },
  {
   "cell_type": "markdown",
   "metadata": {},
   "source": [
    "the medical representative is a person hired by medical company. he is probably have a knowledge in biology and the chemical industry. His job is to promote the new drugs the company manufactured by knowing the dosages, side effects and contraindications.Then making a visit to the doctors who is working in specialties that in need for that drug to cure his patients and telling him the advantage of using that drug instead of the one of the rivals,also he may offer promotion for the doctor if he will describe the drug for his patients.After that they intelligence if the doctor had describe the drug or not.Also they keep all the record about the doctor's features like the if the doctors with high patient rate or not, what are the doctors specialties,examination price that the doctor takes from the patient and the doctor's class which is classified according to number of patients for every doctor and how much is the doctor's fame the other feature will be explained."
   ]
  },
  {
   "cell_type": "markdown",
   "metadata": {},
   "source": [
    "## what's the Medical representative problem?"
   ]
  },
  {
   "cell_type": "markdown",
   "metadata": {},
   "source": [
    "the problem is even with highly skilled medical representative with good presentation skills there is a lot of features that will interference whether the doctors will describe the drug for his patient or not."
   ]
  },
  {
   "cell_type": "markdown",
   "metadata": {},
   "source": [
    "## Project Overview"
   ]
  },
  {
   "cell_type": "markdown",
   "metadata": {},
   "source": [
    "In this project we will make an algorithm that predict whether the doctor will describe the company's drug for his patient or not by training the algorithm with the recorded data which explain the doctors feature and if is describing the drug or not."
   ]
  },
  {
   "cell_type": "markdown",
   "metadata": {},
   "source": [
    "----\n",
    "## Exploring the Data"
   ]
  },
  {
   "cell_type": "code",
   "execution_count": 1,
   "metadata": {},
   "outputs": [
    {
     "data": {
      "text/html": [
       "<div>\n",
       "<style scoped>\n",
       "    .dataframe tbody tr th:only-of-type {\n",
       "        vertical-align: middle;\n",
       "    }\n",
       "\n",
       "    .dataframe tbody tr th {\n",
       "        vertical-align: top;\n",
       "    }\n",
       "\n",
       "    .dataframe thead th {\n",
       "        text-align: right;\n",
       "    }\n",
       "</style>\n",
       "<table border=\"1\" class=\"dataframe\">\n",
       "  <thead>\n",
       "    <tr style=\"text-align: right;\">\n",
       "      <th></th>\n",
       "      <th>medicine</th>\n",
       "      <th>area</th>\n",
       "      <th>speciality</th>\n",
       "      <th>price</th>\n",
       "      <th>dr_class</th>\n",
       "      <th>exam_price</th>\n",
       "      <th>clinic_hos</th>\n",
       "      <th>write</th>\n",
       "    </tr>\n",
       "  </thead>\n",
       "  <tbody>\n",
       "    <tr>\n",
       "      <th>0</th>\n",
       "      <td>type1</td>\n",
       "      <td>area1</td>\n",
       "      <td>chest</td>\n",
       "      <td>45</td>\n",
       "      <td>a</td>\n",
       "      <td>200</td>\n",
       "      <td>clinic</td>\n",
       "      <td>1</td>\n",
       "    </tr>\n",
       "    <tr>\n",
       "      <th>1</th>\n",
       "      <td>type4</td>\n",
       "      <td>area2</td>\n",
       "      <td>im</td>\n",
       "      <td>36</td>\n",
       "      <td>b</td>\n",
       "      <td>100</td>\n",
       "      <td>clinic</td>\n",
       "      <td>1</td>\n",
       "    </tr>\n",
       "    <tr>\n",
       "      <th>2</th>\n",
       "      <td>type1</td>\n",
       "      <td>area8</td>\n",
       "      <td>chest</td>\n",
       "      <td>45</td>\n",
       "      <td>a</td>\n",
       "      <td>75</td>\n",
       "      <td>hospital</td>\n",
       "      <td>1</td>\n",
       "    </tr>\n",
       "    <tr>\n",
       "      <th>3</th>\n",
       "      <td>type1</td>\n",
       "      <td>area5</td>\n",
       "      <td>chest</td>\n",
       "      <td>45</td>\n",
       "      <td>a</td>\n",
       "      <td>30</td>\n",
       "      <td>hospital</td>\n",
       "      <td>1</td>\n",
       "    </tr>\n",
       "    <tr>\n",
       "      <th>4</th>\n",
       "      <td>type5</td>\n",
       "      <td>area6</td>\n",
       "      <td>uro</td>\n",
       "      <td>29</td>\n",
       "      <td>a</td>\n",
       "      <td>220</td>\n",
       "      <td>clinic</td>\n",
       "      <td>0</td>\n",
       "    </tr>\n",
       "    <tr>\n",
       "      <th>5</th>\n",
       "      <td>type5</td>\n",
       "      <td>area8</td>\n",
       "      <td>im</td>\n",
       "      <td>29</td>\n",
       "      <td>b</td>\n",
       "      <td>140</td>\n",
       "      <td>clinic</td>\n",
       "      <td>1</td>\n",
       "    </tr>\n",
       "    <tr>\n",
       "      <th>6</th>\n",
       "      <td>type6</td>\n",
       "      <td>area2</td>\n",
       "      <td>im</td>\n",
       "      <td>20</td>\n",
       "      <td>b</td>\n",
       "      <td>70</td>\n",
       "      <td>hospital</td>\n",
       "      <td>1</td>\n",
       "    </tr>\n",
       "    <tr>\n",
       "      <th>7</th>\n",
       "      <td>type4</td>\n",
       "      <td>area8</td>\n",
       "      <td>chest</td>\n",
       "      <td>36</td>\n",
       "      <td>a</td>\n",
       "      <td>75</td>\n",
       "      <td>hospital</td>\n",
       "      <td>0</td>\n",
       "    </tr>\n",
       "    <tr>\n",
       "      <th>8</th>\n",
       "      <td>type2</td>\n",
       "      <td>area3</td>\n",
       "      <td>cd</td>\n",
       "      <td>30</td>\n",
       "      <td>b</td>\n",
       "      <td>150</td>\n",
       "      <td>clinic</td>\n",
       "      <td>1</td>\n",
       "    </tr>\n",
       "    <tr>\n",
       "      <th>9</th>\n",
       "      <td>type2</td>\n",
       "      <td>area1</td>\n",
       "      <td>neuro</td>\n",
       "      <td>30</td>\n",
       "      <td>b</td>\n",
       "      <td>150</td>\n",
       "      <td>clinic</td>\n",
       "      <td>1</td>\n",
       "    </tr>\n",
       "  </tbody>\n",
       "</table>\n",
       "</div>"
      ],
      "text/plain": [
       "  medicine   area speciality  price dr_class  exam_price clinic_hos  write\n",
       "0    type1  area1      chest     45        a         200     clinic      1\n",
       "1    type4  area2         im     36        b         100     clinic      1\n",
       "2    type1  area8      chest     45        a          75   hospital      1\n",
       "3    type1  area5      chest     45        a          30   hospital      1\n",
       "4    type5  area6        uro     29        a         220     clinic      0\n",
       "5    type5  area8         im     29        b         140     clinic      1\n",
       "6    type6  area2         im     20        b          70   hospital      1\n",
       "7    type4  area8      chest     36        a          75   hospital      0\n",
       "8    type2  area3         cd     30        b         150     clinic      1\n",
       "9    type2  area1      neuro     30        b         150     clinic      1"
      ]
     },
     "metadata": {},
     "output_type": "display_data"
    },
    {
     "data": {
      "text/plain": [
       "'write'"
      ]
     },
     "execution_count": 1,
     "metadata": {},
     "output_type": "execute_result"
    }
   ],
   "source": [
    "# Import libraries necessary for this project\n",
    "import numpy as np\n",
    "import pandas as pd\n",
    "import matplotlib.pyplot as plt\n",
    "import seaborn as sb\n",
    "from time import time\n",
    "from IPython.display import display # Allows the use of display() for DataFrames\n",
    "import warnings\n",
    "warnings.filterwarnings('ignore') \n",
    "\n",
    "# Pretty display for notebooks\n",
    "%matplotlib inline\n",
    "\n",
    "# Load the Census dataset\n",
    "data = pd.read_csv(\"medical.txt\")\n",
    "\n",
    "\n",
    "# Success - Display the first record\n",
    "display(data.head(10))\n",
    "data.shape[0]\n",
    "data.columns[7]"
   ]
  },
  {
   "cell_type": "markdown",
   "metadata": {},
   "source": [
    "## Featureset Exploration\n",
    "### Input Data fields (Features and Labels)\n",
    "The input data consists of 390 samples collected from 253 doctors.\n",
    "This data will be used for training and validation test in a file\n",
    "named medical attached with the project proposal.\n",
    "Every sample consists of 7 features and 1 label(the output target).\n",
    "* **medicine:** The commercial name of the medicine that I refer to it as type1 to type6.\n",
    "* **area:** the goraphic destribution of the doctors.\n",
    "* **Price:** price for every drug of these 6 drugs for patient.\n",
    "* **exam_price:** examination price that the doctor takes from the patient.\n",
    "* **clinic_hos:** classification if this doctor has a private 'clinic' or works in a 'hospital'.\n",
    "* **dr_class:** doctor class was classified according to number of patients for every doctor and how much is this doctor famous and it was classified to 'a' and 'b'.\n",
    "\n",
    "**where:**\n",
    "\n",
    "* **class a:** are doctors with high patient rate\n",
    "* **class b:** are doctors with medium patient rate\n",
    "* **area:** every medical representative cover some areas in a city where the medical representative has to make a lot of visits for alot of doctors in different places and I refer to each area with the name (area1 to area8)with total 8 areas that I have covered to make my prospection.\n",
    "* **specialty:** the specialty of the doctor is one of the most important features because it will determine which of the 6 drugs will be suitable for this doctor to write it in his prescription. \n",
    "\n",
    "**These specialties are:**\n",
    "* **Chest:** chest specialist\n",
    "* **Im:** internal medicine specialist\n",
    "* **Cd:** cardiology specialist\n",
    "* **Neuro:** neurology specialist\n",
    "* **Git:** gastrointestinal tract specialist\n",
    "* **Ent:** ear, nose and throat specialist\n",
    "* **Sur:** surgery specialist\n",
    "* **Uro:** urology specialist\n",
    "* **Gp:** general practitioner\n",
    "* **Or:** orthopedic specialist\n",
    "* **Vas:** vascular specialst\n",
    "\n",
    "**With total 11 specialties.**\n",
    "\n",
    "* **Target (label):** just one target to classify if this doctor write any of these drugs in prescription to his patients or not. With (1) if the doctor writes the drug in his prescription and (0)if not."
   ]
  },
  {
   "cell_type": "markdown",
   "metadata": {},
   "source": [
    "### Implementation: Data Exploration\n",
    "A cursory investigation of the dataset will determine how many doctors describes the company's drug, and will tell us about the percentage of these doctors. In the code cell below, we will need to compute the following:\n",
    "- The total number of doctors, `'n_doctors'`\n",
    "- The number of doctors describes the company's drug, `'doctors_describes'`.\n",
    "- The number of doctors not describes the company's drug, `'doctors_not_describes'`.\n",
    "- The percentage of doctors describes the company's drug, `'doctors_describes_percent'`.\n"
   ]
  },
  {
   "cell_type": "code",
   "execution_count": 2,
   "metadata": {},
   "outputs": [
    {
     "name": "stdout",
     "output_type": "stream",
     "text": [
      "Total number of doctors: 390\n",
      "The number of doctors describes the company's drug: 229\n",
      "Percentage of doctors describes the company's drug: 58.71794871794872%\n"
     ]
    }
   ],
   "source": [
    "# Total number of doctors\n",
    "n_doctors = data.shape[0]\n",
    "\n",
    "# The number of doctors describes the company's drug\n",
    "doctors_describes = data[data.write == 1].shape[0]\n",
    "\n",
    "# The number of doctors not describes the company's drug\n",
    "doctors_not_describes = data[data.write == 0].shape[0]\n",
    "\n",
    "# Percentage of doctors describes the company's drug\n",
    "doctors_describes_percent = (doctors_describes/n_doctors)*100\n",
    "\n",
    "# Print the results\n",
    "\n",
    "print(\"Total number of doctors: {}\".format(n_doctors))\n",
    "print(\"The number of doctors describes the company's drug: {}\".format(doctors_describes))\n",
    "print(\"Percentage of doctors describes the company's drug: {}%\".format(doctors_describes_percent))"
   ]
  },
  {
   "cell_type": "markdown",
   "metadata": {},
   "source": [
    "----\n",
    "## Exploratory Visualization"
   ]
  },
  {
   "cell_type": "markdown",
   "metadata": {},
   "source": [
    "## Preparing the Data\n",
    "Before data can be used as input for machine learning algorithms, it often must be cleaned, formatted, and restructured — this is typically known as **preprocessing**. Fortunately, for this dataset, there are no invalid or missing entries we must deal with, however, there are some qualities about certain features that must be adjusted. This preprocessing can help tremendously with the outcome and predictive power of nearly all learning algorithms."
   ]
  },
  {
   "cell_type": "markdown",
   "metadata": {},
   "source": [
    "### Split the data into features and target label"
   ]
  },
  {
   "cell_type": "code",
   "execution_count": 3,
   "metadata": {},
   "outputs": [],
   "source": [
    "# Split the data into features and target label\n",
    "target = data['write']\n",
    "features = data.drop('write', axis = 1)"
   ]
  },
  {
   "cell_type": "code",
   "execution_count": 4,
   "metadata": {},
   "outputs": [],
   "source": [
    "###########################################\n",
    "# Suppress matplotlib user warnings\n",
    "# Necessary for newer version of matplotlib\n",
    "import warnings\n",
    "warnings.filterwarnings(\"ignore\", category = UserWarning, module = \"matplotlib\")\n",
    "#\n",
    "# Display inline matplotlib plots with IPython\n",
    "from IPython import get_ipython\n",
    "get_ipython().run_line_magic('matplotlib', 'inline')\n",
    "###########################################\n",
    "\n",
    "import numpy as np\n",
    "import pandas as pd\n",
    "import matplotlib.pyplot as plt\n",
    "\n",
    "def filter_data(data, condition):\n",
    "    \"\"\"\n",
    "    Remove elements that do not match the condition provided.\n",
    "    Takes a data list as input and returns a filtered list.\n",
    "    Conditions should be a list of strings of the following format:\n",
    "      '<field> <op> <value>'\n",
    "    where the following operations are valid: >, <, >=, <=, ==, !=\n",
    "    \n",
    "    Example: [\"dr_class == 'a'\",\"clinic_hos == 'hospital'\"]\n",
    "    \"\"\"\n",
    "\n",
    "    field, op, value = condition.split(\" \")\n",
    "    \n",
    "    # convert value into number or strip excess quotes if string\n",
    "    try:\n",
    "        value = float(value)\n",
    "    except:\n",
    "        value = value.strip(\"\\'\\\"\")\n",
    "    \n",
    "    # get booleans for filtering\n",
    "    if op == \">\":\n",
    "        matches = data[field] > value\n",
    "    elif op == \"<\":\n",
    "        matches = data[field] < value\n",
    "    elif op == \">=\":\n",
    "        matches = data[field] >= value\n",
    "    elif op == \"<=\":\n",
    "        matches = data[field] <= value\n",
    "    elif op == \"==\":\n",
    "        matches = data[field] == value\n",
    "    elif op == \"!=\":\n",
    "        matches = data[field] != value\n",
    "    else: # catch invalid operation codes\n",
    "        raise Exception(\"Invalid comparison operator. Only >, <, >=, <=, ==, != allowed.\")\n",
    "    \n",
    "    # filter data and outcomes\n",
    "    data = data[matches].reset_index(drop = True)\n",
    "    return data\n",
    "\n",
    "def write_stats(data, outcomes, key, filters = []):\n",
    "    \"\"\"\n",
    "    Print out selected statistics regarding write, given a feature of\n",
    "    interest and any number of filters (including no filters)\n",
    "    \"\"\"\n",
    "    \n",
    "    # Check that the key exists\n",
    "    if key not in data.columns.values:\n",
    "        print(\"'{}' is not a feature of the Medical representative data. Did you spell something wrong?\".format(key))\n",
    "        return False\n",
    "\n",
    "\n",
    "    # Merge data and outcomes into single dataframe\n",
    "    all_data = pd.concat([data, outcomes.to_frame()], axis = 1)\n",
    "    \n",
    "    # Apply filters to data\n",
    "    for condition in filters:\n",
    "        all_data = filter_data(all_data, condition)\n",
    "\n",
    "    # Create outcomes DataFrame\n",
    "    all_data = all_data[[key, 'write']]\n",
    "    \n",
    "    # Create plotting figure\n",
    "    plt.figure(figsize=(8,6))\n",
    "\n",
    "    # 'Numerical' features\n",
    "    if(key == 'exam_price' or key == 'price'):\n",
    "        \n",
    "        # Remove NaN values from Age data\n",
    "        all_data = all_data[~np.isnan(all_data[key])]\n",
    "        \n",
    "        # Divide the range of data into bins and count survival rates\n",
    "        min_value = all_data[key].min()\n",
    "        max_value = all_data[key].max()\n",
    "        value_range = max_value - min_value\n",
    "\n",
    "        # 'Fares' has larger range of values than 'Age' so create more bins\n",
    "        if(key == 'exam_price'):\n",
    "            bins = np.arange(0, all_data['exam_price'].max() + 10, 10)\n",
    "        if(key == 'price'):\n",
    "            bins = np.arange(0, all_data['price'].max() + 10, 10)\n",
    "        \n",
    "        # Overlay each bin's survival rates\n",
    "        nowrite_vals = all_data[all_data['write'] == 0][key].reset_index(drop = True)\n",
    "        write_vals = all_data[all_data['write'] == 1][key].reset_index(drop = True)\n",
    "        plt.hist(nowrite_vals, bins = bins, alpha = 0.6,\n",
    "                 color = 'red', label = 'Did not write')\n",
    "        plt.hist(write_vals, bins = bins, alpha = 0.6,\n",
    "                 color = 'green', label = 'write')\n",
    "    \n",
    "        # Add legend to plot\n",
    "        plt.xlim(0, bins.max())\n",
    "        plt.legend(framealpha = 0.8)\n",
    "    \n",
    "    # 'Categorical' features\n",
    "    else:\n",
    "       \n",
    "        # Set the various categories\n",
    "        \n",
    "        if(key == 'medicine'):\n",
    "            values = ['type1', 'type2', 'type3','type4','type5','type6']\n",
    "        if(key == 'dr_class'):\n",
    "            values = ['a', 'b']\n",
    "        if(key == 'area'):\n",
    "            values = ['area1', 'area2','area3','area4','area5','area6','area7','area8']\n",
    "        if(key== 'speciality'):\n",
    "            values=['chest','im','cd','neuro','git','ent','sur','uro','gp','or','vas']\n",
    "        if(key== 'clinic_hos'):\n",
    "            values=['clinic','hospital']\n",
    "        if(key == 'price'):\n",
    "            values = [45, 24,30,36,29,20]    \n",
    "        # Create DataFrame containing categories and count of each\n",
    "        frame = pd.DataFrame(index = np.arange(len(values)), columns=(key,'write','nwrite'))\n",
    "        for i, value in enumerate(values):\n",
    "            frame.loc[i] = [value, \\\n",
    "                   len(all_data[(all_data['write'] == 1) & (all_data[key] == value)]), \\\n",
    "                   len(all_data[(all_data['write'] == 0) & (all_data[key] == value)])]\n",
    "\n",
    "        # Set the width of each bar\n",
    "        bar_width = 0.4\n",
    "\n",
    "        # Display each category's write rates\n",
    "        for i in np.arange(len(frame)):\n",
    "            nonsurv_bar = plt.bar(i-bar_width, frame.loc[i]['nwrite'], width = bar_width, color = 'r')\n",
    "            surv_bar = plt.bar(i, frame.loc[i]['write'], width = bar_width, color = 'g')\n",
    "\n",
    "            plt.xticks(np.arange(len(frame)), values)\n",
    "            plt.legend((nonsurv_bar[0], surv_bar[0]),('Did not write', 'write'), framealpha = 0.8)\n",
    "\n",
    "    # Common attributes for plot formatting\n",
    "    plt.xlabel(key)\n",
    "    plt.ylabel('Number of doctors')\n",
    "    plt.title('doctor writing Statistics With \\'%s\\' Feature'%(key))\n",
    "    plt.show()\n",
    "\n"
   ]
  },
  {
   "cell_type": "code",
   "execution_count": 5,
   "metadata": {},
   "outputs": [
    {
     "data": {
      "image/png": "[encoded data removed]",
      "text/plain": [
       "<matplotlib.figure.Figure at 0x7f3b02aecd68>"
      ]
     },
     "metadata": {
      "needs_background": "light"
     },
     "output_type": "display_data"
    }
   ],
   "source": [
    "write_stats(features, target, 'medicine')"
   ]
  },
  {
   "cell_type": "code",
   "execution_count": 6,
   "metadata": {},
   "outputs": [
    {
     "data": {
      "image/png": "[encoded data removed]",
      "text/plain": [
       "<matplotlib.figure.Figure at 0x7f3b02809e10>"
      ]
     },
     "metadata": {
      "needs_background": "light"
     },
     "output_type": "display_data"
    }
   ],
   "source": [
    "write_stats(features, target, 'area')"
   ]
  },
  {
   "cell_type": "code",
   "execution_count": 7,
   "metadata": {},
   "outputs": [
    {
     "data": {
      "image/png": "[encoded data removed]",
      "text/plain": [
       "<matplotlib.figure.Figure at 0x7f3b026f2550>"
      ]
     },
     "metadata": {
      "needs_background": "light"
     },
     "output_type": "display_data"
    }
   ],
   "source": [
    "write_stats(features, target, 'speciality')"
   ]
  },
  {
   "cell_type": "code",
   "execution_count": 8,
   "metadata": {},
   "outputs": [
    {
     "data": {
      "image/png": "[encoded data removed]",
      "text/plain": [
       "<matplotlib.figure.Figure at 0x7f3b026f2e10>"
      ]
     },
     "metadata": {
      "needs_background": "light"
     },
     "output_type": "display_data"
    }
   ],
   "source": [
    "write_stats(features, target, 'price')"
   ]
  },
  {
   "cell_type": "code",
   "execution_count": 9,
   "metadata": {},
   "outputs": [
    {
     "data": {
      "image/png": "[encoded data removed]",
      "text/plain": [
       "<matplotlib.figure.Figure at 0x7f3b02702978>"
      ]
     },
     "metadata": {
      "needs_background": "light"
     },
     "output_type": "display_data"
    }
   ],
   "source": [
    "write_stats(features, target, 'dr_class')"
   ]
  },
  {
   "cell_type": "code",
   "execution_count": 10,
   "metadata": {},
   "outputs": [
    {
     "data": {
      "image/png": "[encoded data removed]",
      "text/plain": [
       "<matplotlib.figure.Figure at 0x7f3b025785c0>"
      ]
     },
     "metadata": {
      "needs_background": "light"
     },
     "output_type": "display_data"
    }
   ],
   "source": [
    "write_stats(features, target, 'exam_price')"
   ]
  },
  {
   "cell_type": "code",
   "execution_count": 11,
   "metadata": {},
   "outputs": [
    {
     "data": {
      "image/png": "[encoded data removed]",
      "text/plain": [
       "<matplotlib.figure.Figure at 0x7f3b024ec5c0>"
      ]
     },
     "metadata": {
      "needs_background": "light"
     },
     "output_type": "display_data"
    }
   ],
   "source": [
    "write_stats(features, target, 'clinic_hos')"
   ]
  },
  {
   "cell_type": "markdown",
   "metadata": {},
   "source": [
    "----\n",
    "fortunately the data we have doesn't have any outliers. Although there are wide variance in the \"price examination\" but it doesn't have values that could be describe  as outliers,So we will train our algorithm with this data.We don't have a testing data-set yet,So we will you cross validation to test our algorithm."
   ]
  },
  {
   "cell_type": "markdown",
   "metadata": {},
   "source": [
    "### Normalizing Numerical Features\n",
    "It is often good practice to perform some type of scaling on numerical features. Applying a scaling to the data does not change the shape of each feature's distribution, However, normalization ensures that each feature is treated equally when applying supervised learners. Note that once scaling is applied, observing the data in its raw form will no longer have the same original meaning, as exampled below.\n",
    "\n",
    "Run the code cell below to normalize each numerical feature. We will use [`sklearn.preprocessing.MinMaxScaler`](http://scikit-learn.org/stable/modules/generated/sklearn.preprocessing.MinMaxScaler.html) for this."
   ]
  },
  {
   "cell_type": "code",
   "execution_count": 12,
   "metadata": {},
   "outputs": [
    {
     "data": {
      "text/html": [
       "<div>\n",
       "<style scoped>\n",
       "    .dataframe tbody tr th:only-of-type {\n",
       "        vertical-align: middle;\n",
       "    }\n",
       "\n",
       "    .dataframe tbody tr th {\n",
       "        vertical-align: top;\n",
       "    }\n",
       "\n",
       "    .dataframe thead th {\n",
       "        text-align: right;\n",
       "    }\n",
       "</style>\n",
       "<table border=\"1\" class=\"dataframe\">\n",
       "  <thead>\n",
       "    <tr style=\"text-align: right;\">\n",
       "      <th></th>\n",
       "      <th>medicine</th>\n",
       "      <th>area</th>\n",
       "      <th>speciality</th>\n",
       "      <th>price</th>\n",
       "      <th>dr_class</th>\n",
       "      <th>exam_price</th>\n",
       "      <th>clinic_hos</th>\n",
       "    </tr>\n",
       "  </thead>\n",
       "  <tbody>\n",
       "    <tr>\n",
       "      <th>0</th>\n",
       "      <td>type1</td>\n",
       "      <td>area1</td>\n",
       "      <td>chest</td>\n",
       "      <td>1.00</td>\n",
       "      <td>a</td>\n",
       "      <td>0.531250</td>\n",
       "      <td>clinic</td>\n",
       "    </tr>\n",
       "    <tr>\n",
       "      <th>1</th>\n",
       "      <td>type4</td>\n",
       "      <td>area2</td>\n",
       "      <td>im</td>\n",
       "      <td>0.64</td>\n",
       "      <td>b</td>\n",
       "      <td>0.218750</td>\n",
       "      <td>clinic</td>\n",
       "    </tr>\n",
       "    <tr>\n",
       "      <th>2</th>\n",
       "      <td>type1</td>\n",
       "      <td>area8</td>\n",
       "      <td>chest</td>\n",
       "      <td>1.00</td>\n",
       "      <td>a</td>\n",
       "      <td>0.140625</td>\n",
       "      <td>hospital</td>\n",
       "    </tr>\n",
       "    <tr>\n",
       "      <th>3</th>\n",
       "      <td>type1</td>\n",
       "      <td>area5</td>\n",
       "      <td>chest</td>\n",
       "      <td>1.00</td>\n",
       "      <td>a</td>\n",
       "      <td>0.000000</td>\n",
       "      <td>hospital</td>\n",
       "    </tr>\n",
       "    <tr>\n",
       "      <th>4</th>\n",
       "      <td>type5</td>\n",
       "      <td>area6</td>\n",
       "      <td>uro</td>\n",
       "      <td>0.36</td>\n",
       "      <td>a</td>\n",
       "      <td>0.593750</td>\n",
       "      <td>clinic</td>\n",
       "    </tr>\n",
       "    <tr>\n",
       "      <th>5</th>\n",
       "      <td>type5</td>\n",
       "      <td>area8</td>\n",
       "      <td>im</td>\n",
       "      <td>0.36</td>\n",
       "      <td>b</td>\n",
       "      <td>0.343750</td>\n",
       "      <td>clinic</td>\n",
       "    </tr>\n",
       "    <tr>\n",
       "      <th>6</th>\n",
       "      <td>type6</td>\n",
       "      <td>area2</td>\n",
       "      <td>im</td>\n",
       "      <td>0.00</td>\n",
       "      <td>b</td>\n",
       "      <td>0.125000</td>\n",
       "      <td>hospital</td>\n",
       "    </tr>\n",
       "  </tbody>\n",
       "</table>\n",
       "</div>"
      ],
      "text/plain": [
       "  medicine   area speciality  price dr_class  exam_price clinic_hos\n",
       "0    type1  area1      chest   1.00        a    0.531250     clinic\n",
       "1    type4  area2         im   0.64        b    0.218750     clinic\n",
       "2    type1  area8      chest   1.00        a    0.140625   hospital\n",
       "3    type1  area5      chest   1.00        a    0.000000   hospital\n",
       "4    type5  area6        uro   0.36        a    0.593750     clinic\n",
       "5    type5  area8         im   0.36        b    0.343750     clinic\n",
       "6    type6  area2         im   0.00        b    0.125000   hospital"
      ]
     },
     "metadata": {},
     "output_type": "display_data"
    }
   ],
   "source": [
    "\n",
    "# Import sklearn.preprocessing.StandardScaler\n",
    "from sklearn.preprocessing import MinMaxScaler\n",
    "\n",
    "# Initialize a scaler, then apply it to the features\n",
    "scaler = MinMaxScaler() # default=(0, 1)\n",
    "numerical = ['price', 'exam_price',]\n",
    "\n",
    "features[numerical] = scaler.fit_transform(features[numerical])\n",
    "\n",
    "# Show an example of a record with scaling applied\n",
    "display(features.head(n = 7))\n"
   ]
  },
  {
   "cell_type": "markdown",
   "metadata": {},
   "source": [
    "### Implementation: Data Preprocessing\n",
    "\n",
    "From the table in **Exploring the Data** above, we can see there are several features for each record that are non-numeric. Typically, learning algorithms expect input to be numeric, which requires that non-numeric features (called *categorical variables*) be converted. One popular way to convert categorical variables is by using the **one-hot encoding** scheme. One-hot encoding creates a _\"dummy\"_ variable for each possible category of each non-numeric feature. For example, assume `someFeature` has three possible entries: `A`, `B`, or `C`. We then encode this feature into `someFeature_A`, `someFeature_B` and `someFeature_C`.\n",
    "\n",
    "|   | someFeature |                    | someFeature_A | someFeature_B | someFeature_C |\n",
    "| :-: | :-: |                            | :-: | :-: | :-: |\n",
    "| 0 |  B  |  | 0 | 1 | 0 |\n",
    "| 1 |  C  | ----> one-hot encode ----> | 0 | 0 | 1 |\n",
    "| 2 |  A  |  | 1 | 0 | 0 |\n",
    "\n",
    "Additionally, as with the non-numeric features, we need to convert the non-numeric target label, `'income'` to numerical values for the learning algorithm to work. we can avoid using one-hot encoding and simply encode these two categories as `0` and `1`, respectively. In code cell below, you will need to implement the following:\n",
    " - Use [`pandas.get_dummies()`](http://pandas.pydata.org/pandas-docs/stable/generated/pandas.get_dummies.html?highlight=get_dummies#pandas.get_dummies) to perform one-hot encoding on the `'features_log_minmax_transform'` data."
   ]
  },
  {
   "cell_type": "code",
   "execution_count": 13,
   "metadata": {},
   "outputs": [
    {
     "name": "stdout",
     "output_type": "stream",
     "text": [
      "31 total features after one-hot encoding.\n"
     ]
    },
    {
     "data": {
      "text/html": [
       "<div>\n",
       "<style scoped>\n",
       "    .dataframe tbody tr th:only-of-type {\n",
       "        vertical-align: middle;\n",
       "    }\n",
       "\n",
       "    .dataframe tbody tr th {\n",
       "        vertical-align: top;\n",
       "    }\n",
       "\n",
       "    .dataframe thead th {\n",
       "        text-align: right;\n",
       "    }\n",
       "</style>\n",
       "<table border=\"1\" class=\"dataframe\">\n",
       "  <thead>\n",
       "    <tr style=\"text-align: right;\">\n",
       "      <th></th>\n",
       "      <th>price</th>\n",
       "      <th>exam_price</th>\n",
       "      <th>medicine_type1</th>\n",
       "      <th>medicine_type2</th>\n",
       "      <th>medicine_type3</th>\n",
       "      <th>medicine_type4</th>\n",
       "      <th>medicine_type5</th>\n",
       "      <th>medicine_type6</th>\n",
       "      <th>area_area1</th>\n",
       "      <th>area_area2</th>\n",
       "      <th>...</th>\n",
       "      <th>speciality_im</th>\n",
       "      <th>speciality_neuro</th>\n",
       "      <th>speciality_or</th>\n",
       "      <th>speciality_sur</th>\n",
       "      <th>speciality_uro</th>\n",
       "      <th>speciality_vas</th>\n",
       "      <th>dr_class_a</th>\n",
       "      <th>dr_class_b</th>\n",
       "      <th>clinic_hos_clinic</th>\n",
       "      <th>clinic_hos_hospital</th>\n",
       "    </tr>\n",
       "  </thead>\n",
       "  <tbody>\n",
       "    <tr>\n",
       "      <th>0</th>\n",
       "      <td>1.00</td>\n",
       "      <td>0.531250</td>\n",
       "      <td>1</td>\n",
       "      <td>0</td>\n",
       "      <td>0</td>\n",
       "      <td>0</td>\n",
       "      <td>0</td>\n",
       "      <td>0</td>\n",
       "      <td>1</td>\n",
       "      <td>0</td>\n",
       "      <td>...</td>\n",
       "      <td>0</td>\n",
       "      <td>0</td>\n",
       "      <td>0</td>\n",
       "      <td>0</td>\n",
       "      <td>0</td>\n",
       "      <td>0</td>\n",
       "      <td>1</td>\n",
       "      <td>0</td>\n",
       "      <td>1</td>\n",
       "      <td>0</td>\n",
       "    </tr>\n",
       "    <tr>\n",
       "      <th>1</th>\n",
       "      <td>0.64</td>\n",
       "      <td>0.218750</td>\n",
       "      <td>0</td>\n",
       "      <td>0</td>\n",
       "      <td>0</td>\n",
       "      <td>1</td>\n",
       "      <td>0</td>\n",
       "      <td>0</td>\n",
       "      <td>0</td>\n",
       "      <td>1</td>\n",
       "      <td>...</td>\n",
       "      <td>1</td>\n",
       "      <td>0</td>\n",
       "      <td>0</td>\n",
       "      <td>0</td>\n",
       "      <td>0</td>\n",
       "      <td>0</td>\n",
       "      <td>0</td>\n",
       "      <td>1</td>\n",
       "      <td>1</td>\n",
       "      <td>0</td>\n",
       "    </tr>\n",
       "    <tr>\n",
       "      <th>2</th>\n",
       "      <td>1.00</td>\n",
       "      <td>0.140625</td>\n",
       "      <td>1</td>\n",
       "      <td>0</td>\n",
       "      <td>0</td>\n",
       "      <td>0</td>\n",
       "      <td>0</td>\n",
       "      <td>0</td>\n",
       "      <td>0</td>\n",
       "      <td>0</td>\n",
       "      <td>...</td>\n",
       "      <td>0</td>\n",
       "      <td>0</td>\n",
       "      <td>0</td>\n",
       "      <td>0</td>\n",
       "      <td>0</td>\n",
       "      <td>0</td>\n",
       "      <td>1</td>\n",
       "      <td>0</td>\n",
       "      <td>0</td>\n",
       "      <td>1</td>\n",
       "    </tr>\n",
       "    <tr>\n",
       "      <th>3</th>\n",
       "      <td>1.00</td>\n",
       "      <td>0.000000</td>\n",
       "      <td>1</td>\n",
       "      <td>0</td>\n",
       "      <td>0</td>\n",
       "      <td>0</td>\n",
       "      <td>0</td>\n",
       "      <td>0</td>\n",
       "      <td>0</td>\n",
       "      <td>0</td>\n",
       "      <td>...</td>\n",
       "      <td>0</td>\n",
       "      <td>0</td>\n",
       "      <td>0</td>\n",
       "      <td>0</td>\n",
       "      <td>0</td>\n",
       "      <td>0</td>\n",
       "      <td>1</td>\n",
       "      <td>0</td>\n",
       "      <td>0</td>\n",
       "      <td>1</td>\n",
       "    </tr>\n",
       "    <tr>\n",
       "      <th>4</th>\n",
       "      <td>0.36</td>\n",
       "      <td>0.593750</td>\n",
       "      <td>0</td>\n",
       "      <td>0</td>\n",
       "      <td>0</td>\n",
       "      <td>0</td>\n",
       "      <td>1</td>\n",
       "      <td>0</td>\n",
       "      <td>0</td>\n",
       "      <td>0</td>\n",
       "      <td>...</td>\n",
       "      <td>0</td>\n",
       "      <td>0</td>\n",
       "      <td>0</td>\n",
       "      <td>0</td>\n",
       "      <td>1</td>\n",
       "      <td>0</td>\n",
       "      <td>1</td>\n",
       "      <td>0</td>\n",
       "      <td>1</td>\n",
       "      <td>0</td>\n",
       "    </tr>\n",
       "    <tr>\n",
       "      <th>5</th>\n",
       "      <td>0.36</td>\n",
       "      <td>0.343750</td>\n",
       "      <td>0</td>\n",
       "      <td>0</td>\n",
       "      <td>0</td>\n",
       "      <td>0</td>\n",
       "      <td>1</td>\n",
       "      <td>0</td>\n",
       "      <td>0</td>\n",
       "      <td>0</td>\n",
       "      <td>...</td>\n",
       "      <td>1</td>\n",
       "      <td>0</td>\n",
       "      <td>0</td>\n",
       "      <td>0</td>\n",
       "      <td>0</td>\n",
       "      <td>0</td>\n",
       "      <td>0</td>\n",
       "      <td>1</td>\n",
       "      <td>1</td>\n",
       "      <td>0</td>\n",
       "    </tr>\n",
       "    <tr>\n",
       "      <th>6</th>\n",
       "      <td>0.00</td>\n",
       "      <td>0.125000</td>\n",
       "      <td>0</td>\n",
       "      <td>0</td>\n",
       "      <td>0</td>\n",
       "      <td>0</td>\n",
       "      <td>0</td>\n",
       "      <td>1</td>\n",
       "      <td>0</td>\n",
       "      <td>1</td>\n",
       "      <td>...</td>\n",
       "      <td>1</td>\n",
       "      <td>0</td>\n",
       "      <td>0</td>\n",
       "      <td>0</td>\n",
       "      <td>0</td>\n",
       "      <td>0</td>\n",
       "      <td>0</td>\n",
       "      <td>1</td>\n",
       "      <td>0</td>\n",
       "      <td>1</td>\n",
       "    </tr>\n",
       "    <tr>\n",
       "      <th>7</th>\n",
       "      <td>0.64</td>\n",
       "      <td>0.140625</td>\n",
       "      <td>0</td>\n",
       "      <td>0</td>\n",
       "      <td>0</td>\n",
       "      <td>1</td>\n",
       "      <td>0</td>\n",
       "      <td>0</td>\n",
       "      <td>0</td>\n",
       "      <td>0</td>\n",
       "      <td>...</td>\n",
       "      <td>0</td>\n",
       "      <td>0</td>\n",
       "      <td>0</td>\n",
       "      <td>0</td>\n",
       "      <td>0</td>\n",
       "      <td>0</td>\n",
       "      <td>1</td>\n",
       "      <td>0</td>\n",
       "      <td>0</td>\n",
       "      <td>1</td>\n",
       "    </tr>\n",
       "    <tr>\n",
       "      <th>8</th>\n",
       "      <td>0.40</td>\n",
       "      <td>0.375000</td>\n",
       "      <td>0</td>\n",
       "      <td>1</td>\n",
       "      <td>0</td>\n",
       "      <td>0</td>\n",
       "      <td>0</td>\n",
       "      <td>0</td>\n",
       "      <td>0</td>\n",
       "      <td>0</td>\n",
       "      <td>...</td>\n",
       "      <td>0</td>\n",
       "      <td>0</td>\n",
       "      <td>0</td>\n",
       "      <td>0</td>\n",
       "      <td>0</td>\n",
       "      <td>0</td>\n",
       "      <td>0</td>\n",
       "      <td>1</td>\n",
       "      <td>1</td>\n",
       "      <td>0</td>\n",
       "    </tr>\n",
       "    <tr>\n",
       "      <th>9</th>\n",
       "      <td>0.40</td>\n",
       "      <td>0.375000</td>\n",
       "      <td>0</td>\n",
       "      <td>1</td>\n",
       "      <td>0</td>\n",
       "      <td>0</td>\n",
       "      <td>0</td>\n",
       "      <td>0</td>\n",
       "      <td>1</td>\n",
       "      <td>0</td>\n",
       "      <td>...</td>\n",
       "      <td>0</td>\n",
       "      <td>1</td>\n",
       "      <td>0</td>\n",
       "      <td>0</td>\n",
       "      <td>0</td>\n",
       "      <td>0</td>\n",
       "      <td>0</td>\n",
       "      <td>1</td>\n",
       "      <td>1</td>\n",
       "      <td>0</td>\n",
       "    </tr>\n",
       "  </tbody>\n",
       "</table>\n",
       "<p>10 rows × 31 columns</p>\n",
       "</div>"
      ],
      "text/plain": [
       "   price  exam_price  medicine_type1  medicine_type2  medicine_type3  \\\n",
       "0   1.00    0.531250               1               0               0   \n",
       "1   0.64    0.218750               0               0               0   \n",
       "2   1.00    0.140625               1               0               0   \n",
       "3   1.00    0.000000               1               0               0   \n",
       "4   0.36    0.593750               0               0               0   \n",
       "5   0.36    0.343750               0               0               0   \n",
       "6   0.00    0.125000               0               0               0   \n",
       "7   0.64    0.140625               0               0               0   \n",
       "8   0.40    0.375000               0               1               0   \n",
       "9   0.40    0.375000               0               1               0   \n",
       "\n",
       "   medicine_type4  medicine_type5  medicine_type6  area_area1  area_area2  \\\n",
       "0               0               0               0           1           0   \n",
       "1               1               0               0           0           1   \n",
       "2               0               0               0           0           0   \n",
       "3               0               0               0           0           0   \n",
       "4               0               1               0           0           0   \n",
       "5               0               1               0           0           0   \n",
       "6               0               0               1           0           1   \n",
       "7               1               0               0           0           0   \n",
       "8               0               0               0           0           0   \n",
       "9               0               0               0           1           0   \n",
       "\n",
       "          ...           speciality_im  speciality_neuro  speciality_or  \\\n",
       "0         ...                       0                 0              0   \n",
       "1         ...                       1                 0              0   \n",
       "2         ...                       0                 0              0   \n",
       "3         ...                       0                 0              0   \n",
       "4         ...                       0                 0              0   \n",
       "5         ...                       1                 0              0   \n",
       "6         ...                       1                 0              0   \n",
       "7         ...                       0                 0              0   \n",
       "8         ...                       0                 0              0   \n",
       "9         ...                       0                 1              0   \n",
       "\n",
       "   speciality_sur  speciality_uro  speciality_vas  dr_class_a  dr_class_b  \\\n",
       "0               0               0               0           1           0   \n",
       "1               0               0               0           0           1   \n",
       "2               0               0               0           1           0   \n",
       "3               0               0               0           1           0   \n",
       "4               0               1               0           1           0   \n",
       "5               0               0               0           0           1   \n",
       "6               0               0               0           0           1   \n",
       "7               0               0               0           1           0   \n",
       "8               0               0               0           0           1   \n",
       "9               0               0               0           0           1   \n",
       "\n",
       "   clinic_hos_clinic  clinic_hos_hospital  \n",
       "0                  1                    0  \n",
       "1                  1                    0  \n",
       "2                  0                    1  \n",
       "3                  0                    1  \n",
       "4                  1                    0  \n",
       "5                  1                    0  \n",
       "6                  0                    1  \n",
       "7                  0                    1  \n",
       "8                  1                    0  \n",
       "9                  1                    0  \n",
       "\n",
       "[10 rows x 31 columns]"
      ]
     },
     "metadata": {},
     "output_type": "display_data"
    }
   ],
   "source": [
    "# One-hot encode the 'features_log_minmax_transform' data using pandas.get_dummies()\n",
    "features_final = pd.get_dummies(features)\n",
    "\n",
    "\n",
    "\n",
    "#print(income)\n",
    "# Print the number of features after one-hot encoding\n",
    "encoded = list(features_final.columns)\n",
    "print(\"{} total features after one-hot encoding.\".format(len(encoded)))\n",
    "\n",
    "# Uncomment the following line to see the encoded feature names\n",
    "display(features_final[0:10])"
   ]
  },
  {
   "cell_type": "markdown",
   "metadata": {},
   "source": [
    "### Shuffle and Split Data\n",
    "Now all _categorical variables_ have been converted into numerical features, and all numerical features have been normalized. As always, we will now split the data (both features and their labels) into training and test sets. 80% of the data will be used for training and 20% for testing.\n",
    "\n",
    "Run the code cell below to perform this split."
   ]
  },
  {
   "cell_type": "code",
   "execution_count": 14,
   "metadata": {},
   "outputs": [
    {
     "name": "stdout",
     "output_type": "stream",
     "text": [
      "Training set has 312 samples.\n",
      "Testing set has 78 samples.\n"
     ]
    }
   ],
   "source": [
    "# Import train_test_split\n",
    "from sklearn.model_selection import train_test_split\n",
    "\n",
    "# Split the 'features' and 'income' data into training and testing sets\n",
    "X_train, X_test, y_train, y_test = train_test_split(features_final, \n",
    "                                                    target, \n",
    "                                                    test_size = 0.2, \n",
    "                                                    random_state = 5)\n",
    "\n",
    "# Show the results of the split\n",
    "print(\"Training set has {} samples.\".format(X_train.shape[0]))\n",
    "print(\"Testing set has {} samples.\".format(X_test.shape[0]))"
   ]
  },
  {
   "cell_type": "markdown",
   "metadata": {},
   "source": [
    "----\n",
    "## Evaluating Model Performance\n",
    "In this section, we will investigate four different algorithms, and determine which is best at modeling the data. Three of these algorithms will be supervised learners of your choice, and the fourth algorithm is known as a *naive predictor*."
   ]
  },
  {
   "cell_type": "markdown",
   "metadata": {},
   "source": [
    "### Metrics and the Naive Predictor\n",
    "\n",
    "\n",
    " \n",
    "*Medical representative ML*,  knows doctors describes are most likely to describes the company's medicine. Because of this, *Medical representative ML* is particularly interested in predicting the doctors who describes  the company's medicine accurately. It would seem that using **accuracy** as a metric for evaluating a particular model's performance would be appropriate. Additionally, identifying doctor that *does not* describes the company's medicine as someone who does would be detrimental to *Medical representative ML*, since they are looking to find doctors who will describe the company's medicine. Therefore, a model's ability to precisely predict those that doctors who will describe the company's medicine *more important* than the model's ability to **recall** those doctors. We can use **F-beta score** as a metric that considers both precision and recall:\n",
    "\n",
    "$$ F_{\\beta} = (1 + \\beta^2) \\cdot \\frac{precision \\cdot recall}{\\left( \\beta^2 \\cdot precision \\right) + recall} $$\n",
    "\n",
    "In particular, when $\\beta = 0.5$, more emphasis is placed on precision. This is called the **F$_{0.5}$ score** (or F-score for simplicity).\n",
    "\n",
    "\n",
    "#### Note: Recap of accuracy, precision, recall\n",
    "\n",
    "** Accuracy ** measures how often the classifier makes the correct prediction. It’s the ratio of the number of correct predictions to the total number of predictions (the number of test data points).\n",
    "\n",
    "** Precision ** tells us what proportion of messages we classified as spam, actually were spam.\n",
    "It is a ratio of true positives(words classified as spam, and which are actually spam) to all positives(all words classified as spam, irrespective of whether that was the correct classificatied), in other words it is the ratio of\n",
    "\n",
    "`[True Positives/(True Positives + False Positives)]`\n",
    "\n",
    "** Recall(sensitivity)** tells us what proportion of messages that actually were spam were classified by us as spam.\n",
    "It is a ratio of true positives(words classified as spam, and which are actually spam) to all the words that were actually spam, in other words it is the ratio of\n",
    "\n",
    "`[True Positives/(True Positives + False Negatives)]`\n",
    "\n",
    "For classification problems that are skewed in their classification distributions like in our case, for example if we had a 100 text messages and only 2 were spam and the rest 98 weren't, accuracy by itself is not a very good metric. We could classify 90 messages as not spam(including the 2 that were spam but we classify them as not spam, hence they would be false negatives) and 10 as spam(all 10 false positives) and still get a reasonably good accuracy score. For such cases, precision and recall come in very handy. These two metrics can be combined to get the F1 score, which is weighted average(harmonic mean) of the precision and recall scores. This score can range from 0 to 1, with 1 being the best possible F1 score(we take the harmonic mean as we are dealing with ratios)."
   ]
  },
  {
   "cell_type": "markdown",
   "metadata": {},
   "source": [
    "----\n",
    "### Benchmark"
   ]
  },
  {
   "cell_type": "markdown",
   "metadata": {},
   "source": [
    "### Naive Predictor Performace\n",
    "* If we chose a model that always predicted the doctors who describes the company's medicine, what would  that model's accuracy and F-score be on this dataset? You must use the code cell below and assign your results to `'accuracy'` and `'fscore'` to be used later.\n",
    "\n",
    "\n",
    "\n",
    "* When we have a model that always predicts '1' (i.e. the doctors who describes the company's medicine) then our model will have no True Negatives(TN) or False Negatives(FN) as we are not making any negative('0' value) predictions. Therefore our Accuracy in this case becomes the same as our Precision(True Positives/(True Positives + False Positives)) as every prediction that we have made with value '1' that should have '0' becomes a False Positive; therefore our denominator in this case is the total number of records we have in total. \n",
    "* Our Recall score(True Positives/(True Positives + False Negatives)) in this setting becomes 1 as we have no False Negatives."
   ]
  },
  {
   "cell_type": "code",
   "execution_count": 15,
   "metadata": {},
   "outputs": [
    {
     "name": "stdout",
     "output_type": "stream",
     "text": [
      "Naive Predictor: [Accuracy score: 0.5872, F-score: 0.6400]\n"
     ]
    }
   ],
   "source": [
    "'''\n",
    "TP = np.sum(income) # Counting the ones as this is the naive case. Note that 'income' is the 'income_raw' data \n",
    "encoded to numerical values done in the data preprocessing step.\n",
    "FP = income.count() - TP # Specific to the naive case\n",
    "\n",
    "TN = 0 # No predicted negatives in the naive case\n",
    "FN = 0 # No predicted negatives in the naive case\n",
    "'''\n",
    "# TODO: Calculate accuracy, precision and recall\n",
    "TP=np.sum(target)\n",
    "FP= n_doctors - TP\n",
    "TN=0\n",
    "FN=0\n",
    "accuracy = TP/(TP+FP)\n",
    "recall = TP/(TP+FN)\n",
    "precision = TP/(TP+FP)\n",
    " \n",
    "# TODO: Calculate F-score using the formula above for beta = 0.5 and correct values for precision and recall.\n",
    "beta = 0.5\n",
    "fscore =(1+ beta**2)*(precision * recall)/((beta**2*precision)+recall) \n",
    "\n",
    "\n",
    "# Print the results \n",
    "print(\"Naive Predictor: [Accuracy score: {:.4f}, F-score: {:.4f}]\".format(accuracy, fscore))"
   ]
  },
  {
   "cell_type": "markdown",
   "metadata": {},
   "source": [
    "----\n",
    "### Algorithms and Techniques"
   ]
  },
  {
   "cell_type": "markdown",
   "metadata": {},
   "source": [
    "###  Supervised Learning Models\n",
    "**The following are some of the supervised learning models that are currently available in** [`scikit-learn`](http://scikit-learn.org/stable/supervised_learning.html) **that you may choose from:**\n",
    "- Decision Trees\n",
    "- Ensemble Methood\n",
    "- K-Nearest Neighbors (KNeighbors)\n",
    "- Support Vector Machines (SVM)\n",
    "- Logistic Regression"
   ]
  },
  {
   "cell_type": "markdown",
   "metadata": {},
   "source": [
    "### we will use these models for solving the problem\n",
    "- 1-Decision Trees\n",
    "- 2-Ensemble Methods using  AdaBoost method\n",
    "- 3-Support Vector Machines \n",
    "\n",
    "then when we see a promising result from on of these model we will use the grid search techniques to enhance the result of that model and the ML algorithm as a whole."
   ]
  },
  {
   "cell_type": "markdown",
   "metadata": {},
   "source": [
    "----\n",
    "# 1-Decision Trees:\n",
    "\n",
    " Strengths of Decision Trees:\n",
    "------------------------------------------\n",
    "\n",
    "- Decision trees implicitly perform variable screening or feature selection.\n",
    "- Decision trees require relatively little effort from users for data preparation.\n",
    "- Nonlinear relationships between parameters do not affect tree performance.\n",
    "- The best feature of using trees for analytics - easy to interpret and explain to executives.\n",
    "- Decision trees can handle both categorical and numerical variables at the same time as features. \n",
    "\n",
    "Weaknesses of Decision Trees :\n",
    "----------------------------------------------\n",
    "\n",
    "- They can be extremely sensitive to small perturbations in the data where a slight change can result in a drastically different tree. .\n",
    "- They can easily overfit. This can be negated by validation methods and pruning, but this is a grey area..\n",
    "- Need to discrete data for some particular construction algorithm .\n",
    "\n",
    "What makes this model a good candidate for the problem ?\n",
    "-------------------------------------------------------------------------------------\n",
    "in my openion because of Decision trees can handle both categorical and numerical variables\n",
    "Every split in a decision tree is based on a feature. If the feature is categorical, the split is done with the elements belonging to a particular class. If the feature is contiuous, the split is done with the elements higher than a threshold. At every split, the decision tree will take the best variable at that moment. This will be done according to an impurity measure with the splitted branches. And the fact that the variable used to do split is categorical or continuous is irrelevant (in fact, decision trees categorize contiuous variables by creating binary regions with the threshold).\n",
    "\n",
    "so i will not need alot of data preparation before buildong my model\n",
    "\n",
    "\n",
    "\n",
    "2- Support Vector Machine\n",
    "--------------------------------------\n",
    "\n",
    "Strengths of  SVM :\n",
    "----------------------------\n",
    "\n",
    "- SVM works well in complicated domanis where there is a clear margin of sepration.\n",
    "- this model is good with  high dimensional spaces(a lot of features).\n",
    "\n",
    "Weaknesses of SVM :\n",
    "-------------------------------\n",
    "\n",
    "- SVM doesn't perfrom well in very large data sets because the training time happens to be cubic in the size of the data set.\n",
    "- SVM doesn't perfrom well with a lot of noise.\n",
    "\n",
    "\n",
    "What makes this model a good candidate for the problem ?\n",
    "-------------------------------------------------------------------------------------\n",
    "- sample size is not too small and at the same time is not too large so our data size is suitable for using SVM.\n",
    "- it will work with a lot of features which we aready have.\n",
    "- we can change kernel parameters to get the best model to test data.\n",
    "\n",
    "\n",
    "3-Ensemble Methods using  AdaBoost method\n",
    "-------------------------------------------------------------------\n",
    "\n",
    "\n",
    "Strengths of  AdaBoost :\n",
    "------------------------------------\n",
    "\n",
    "- simple models (weak learner)can be compined to build a better model(strong learner).\n",
    "- AdaBoost capture hard decision boundaries.\n",
    "- AdaBoost can achieve similar classification results with much less tweaking of parameters.\n",
    "\n",
    "\n",
    "Weaknesses of Adaboost :\n",
    "-------------------------------\n",
    "\n",
    "- AdaBoost can be sensitive to noisy data and outliers.\n",
    "\n",
    "\n",
    "What makes this model a good candidate for the problem ?\n",
    "-------------------------------------------------------------------------------------\n",
    "\n",
    "- it will give us strong quallity  specially our data is not so noisy.\n"
   ]
  },
  {
   "cell_type": "markdown",
   "metadata": {},
   "source": [
    "----\n",
    "# Implementation"
   ]
  },
  {
   "cell_type": "markdown",
   "metadata": {},
   "source": [
    "### Implementation - Creating a Training and Predicting Pipeline\n",
    "To properly evaluate the performance of each model you've chosen, it's important that you create a training and predicting pipeline that allows you to quickly and effectively train models \n",
    "In the code block below, you will need to implement the following:\n",
    " - Import `fbeta_score` and `accuracy_score` from [`sklearn.metrics`](http://scikit-learn.org/stable/modules/classes.html#sklearn-metrics-metrics).\n",
    " - import the three selcted models\n",
    " - Calculate the accuracy score for both the training  and testing set.\n",
    " - Calculate the F-score for both the training subset and testing set.\n",
    "   - Make sure that you set the `beta` parameter!"
   ]
  },
  {
   "cell_type": "markdown",
   "metadata": {},
   "source": [
    "### Plotting Learning Curves\n",
    "A function to plot learning curves for classifiers. Learning curves are extremely useful to analyze if a model is suffering from over- or under-fitting (high variance or high bias). The function can be imported via."
   ]
  },
  {
   "cell_type": "code",
   "execution_count": 16,
   "metadata": {},
   "outputs": [],
   "source": [
    "from sklearn.model_selection import learning_curve\n",
    "def draw_learning_curves(X, y, estimator, num_trainings):\n",
    "    train_sizes, train_scores, test_scores = learning_curve(\n",
    "        estimator, X, y, cv=None, n_jobs=1, train_sizes=np.linspace(.1, 1.0, num_trainings))\n",
    "    print(\"train score:\\n\",train_scores)\n",
    "    print()\n",
    "    print(\"train size :\\n\",train_sizes)\n",
    "    print()\n",
    "    train_scores_mean = np.mean(train_scores, axis=1)\n",
    "    print(\"train score mean:\\n\",train_scores_mean)\n",
    "    print()\n",
    "    print(\"test_score: \\n\",test_scores)\n",
    "    #train_scores_std = np.std(train_scores, axis=1)\n",
    "    test_scores_mean = np.mean(test_scores, axis=1)\n",
    "    #test_scores_std = np.std(test_scores, axis=1)\n",
    "    print(\"test score mean:\\n\",test_scores_mean)\n",
    "    print()\n",
    "    plt.grid();\n",
    "\n",
    "    plt.title(\"Learning Curves\");\n",
    "    plt.xlabel(\"Training examples\");\n",
    "    plt.ylabel(\"Score\");\n",
    "\n",
    "    plt.plot(train_sizes,train_scores_mean, 'o-', color=\"g\",\n",
    "             label=\"Training score\");\n",
    "    plt.plot(train_sizes,test_scores_mean, 'o-', color=\"y\",\n",
    "             label=\"Cross-validation score\");\n",
    "    plt.legend(loc=\"best\");"
   ]
  },
  {
   "cell_type": "code",
   "execution_count": 17,
   "metadata": {},
   "outputs": [
    {
     "name": "stdout",
     "output_type": "stream",
     "text": [
      "train score:\n",
      " [[1.         1.         1.        ]\n",
      " [0.98039216 0.96078431 0.96078431]\n",
      " [0.97402597 0.92207792 0.92207792]\n",
      " [0.98058252 0.93203883 0.93203883]\n",
      " [0.97674419 0.90697674 0.90697674]\n",
      " [0.96129032 0.90322581 0.90322581]\n",
      " [0.96132597 0.91160221 0.91712707]\n",
      " [0.95169082 0.90821256 0.92270531]\n",
      " [0.93991416 0.90987124 0.93133047]\n",
      " [0.92277992 0.9034749  0.93822394]]\n",
      "\n",
      "train size :\n",
      " [ 25  51  77 103 129 155 181 207 233 259]\n",
      "\n",
      "train score mean:\n",
      " [1.         0.96732026 0.93939394 0.94822006 0.93023256 0.92258065\n",
      " 0.93001842 0.92753623 0.92703863 0.92149292]\n",
      "\n",
      "test_score: \n",
      " [[0.46564885 0.70769231 0.59689922]\n",
      " [0.59541985 0.74615385 0.6124031 ]\n",
      " [0.64885496 0.74615385 0.57364341]\n",
      " [0.58015267 0.63846154 0.50387597]\n",
      " [0.64122137 0.70769231 0.62790698]\n",
      " [0.6870229  0.60769231 0.55813953]\n",
      " [0.72519084 0.60769231 0.62015504]\n",
      " [0.70229008 0.64615385 0.6744186 ]\n",
      " [0.7480916  0.66923077 0.62790698]\n",
      " [0.69465649 0.67692308 0.62790698]]\n",
      "test score mean:\n",
      " [0.59008013 0.6513256  0.65621741 0.57416339 0.65894022 0.61761825\n",
      " 0.65101273 0.67428751 0.68174312 0.66649551]\n",
      "\n",
      "\n"
     ]
    },
    {
     "data": {
      "image/png": "[encoded data removed]",
      "text/plain": [
       "<matplotlib.figure.Figure at 0x7f3b02651400>"
      ]
     },
     "metadata": {
      "needs_background": "light"
     },
     "output_type": "display_data"
    }
   ],
   "source": [
    "# Import two metrics from sklearn - fbeta_score and accuracy_score\n",
    "from sklearn.metrics import fbeta_score, accuracy_score\n",
    "\n",
    "# import the three selcted models\n",
    "from sklearn.tree import DecisionTreeClassifier\n",
    "\n",
    "# fit The three slected models with training and testing data\n",
    "model_1 = DecisionTreeClassifier()\n",
    "model_1.fit(X_train,y_train)\n",
    "y_train_pred_1 = model_1.predict(X_train)\n",
    "y_test_pred_1 = model_1.predict(X_test)\n",
    "\n",
    "\n",
    "#draw_learning_curves\n",
    "draw_learning_curves(features_final,target, model_1, num_trainings=10);\n",
    "print()"
   ]
  },
  {
   "cell_type": "code",
   "execution_count": 18,
   "metadata": {},
   "outputs": [
    {
     "name": "stdout",
     "output_type": "stream",
     "text": [
      "Decision Tree\n",
      "The training accuracy is 0.9294871794871795\n",
      "The test accuracy is 0.6025641025641025\n",
      "\n",
      "The training F-score is 0.9471871412169918\n",
      "The test F-score is 0.9471871412169918\n",
      "\n",
      "\n"
     ]
    }
   ],
   "source": [
    "# Calculate the accuracy score for both the training  and testing set for model 1\n",
    "print('Decision Tree')\n",
    "train_accuracy = accuracy_score(y_train, y_train_pred_1)\n",
    "test_accuracy = accuracy_score(y_test, y_test_pred_1)\n",
    "print('The training accuracy is', train_accuracy)\n",
    "print('The test accuracy is', test_accuracy)\n",
    "print()\n",
    "\n",
    "# Calculate the F-score for both the training subset and testing set for model 1\n",
    "train_F_score = fbeta_score(y_train, y_train_pred_1, beta=0.5)\n",
    "test_F_score = fbeta_score(y_test, y_test_pred_1, beta=0.5)\n",
    "print('The training F-score is', train_F_score)\n",
    "print('The test F-score is', train_F_score)\n",
    "print()\n",
    "print()"
   ]
  },
  {
   "cell_type": "code",
   "execution_count": 19,
   "metadata": {},
   "outputs": [
    {
     "name": "stdout",
     "output_type": "stream",
     "text": [
      "\n",
      "train score:\n",
      " [[0.64       0.72       0.72      ]\n",
      " [0.76470588 0.66666667 0.66666667]\n",
      " [0.74025974 0.74025974 0.74025974]\n",
      " [0.75728155 0.76699029 0.76699029]\n",
      " [0.74418605 0.70542636 0.72868217]\n",
      " [0.72258065 0.69032258 0.69032258]\n",
      " [0.74585635 0.71270718 0.69060773]\n",
      " [0.75845411 0.7294686  0.69082126]\n",
      " [0.74248927 0.7167382  0.7167382 ]\n",
      " [0.71814672 0.6988417  0.72972973]]\n",
      "\n",
      "train size :\n",
      " [ 25  51  77 103 129 155 181 207 233 259]\n",
      "\n",
      "train score mean:\n",
      " [0.69333333 0.69934641 0.74025974 0.76375405 0.72609819 0.70107527\n",
      " 0.71639042 0.72624799 0.72532189 0.71557272]\n",
      "\n",
      "test_score: \n",
      " [[0.60305344 0.58461538 0.58914729]\n",
      " [0.64122137 0.58461538 0.58914729]\n",
      " [0.70229008 0.66153846 0.59689922]\n",
      " [0.70992366 0.7        0.68217054]\n",
      " [0.70992366 0.75384615 0.68992248]\n",
      " [0.70992366 0.75384615 0.68217054]\n",
      " [0.70992366 0.75384615 0.68217054]\n",
      " [0.70992366 0.75384615 0.68217054]\n",
      " [0.70992366 0.75384615 0.68217054]\n",
      " [0.70992366 0.75384615 0.68217054]]\n",
      "test score mean:\n",
      " [0.59227204 0.60499468 0.65357592 0.69736474 0.71789743 0.71531345\n",
      " 0.71531345 0.71531345 0.71531345 0.71531345]\n",
      "\n",
      "\n"
     ]
    },
    {
     "data": {
      "image/png": "[encoded data removed]",
      "text/plain": [
       "<matplotlib.figure.Figure at 0x7f3b02483978>"
      ]
     },
     "metadata": {
      "needs_background": "light"
     },
     "output_type": "display_data"
    }
   ],
   "source": [
    "from sklearn.svm import SVC\n",
    "\n",
    "model_2 = SVC()\n",
    "model_2.fit(X_train,y_train)\n",
    "y_train_pred_2 = model_2.predict(X_train)\n",
    "y_test_pred_2 = model_1.predict(X_test)\n",
    "\n",
    "print()\n",
    "#draw_learning_curves\n",
    "draw_learning_curves(features_final,target, model_2, num_trainings=10);\n",
    "print()\n"
   ]
  },
  {
   "cell_type": "code",
   "execution_count": 20,
   "metadata": {},
   "outputs": [
    {
     "name": "stdout",
     "output_type": "stream",
     "text": [
      "SVC\n",
      "The training accuracy is 0.7051282051282052\n",
      "The test accuracy is 0.6025641025641025\n",
      "\n",
      "The training F-score is 0.7409440175631176\n",
      "The test F-score is 0.7409440175631176\n",
      "\n"
     ]
    }
   ],
   "source": [
    "# Calculate the accuracy score for both the training  and testing set for model 2\n",
    "print('SVC')\n",
    "train_accuracy = accuracy_score(y_train, y_train_pred_2)\n",
    "test_accuracy = accuracy_score(y_test, y_test_pred_2)\n",
    "print('The training accuracy is', train_accuracy)\n",
    "print('The test accuracy is', test_accuracy)\n",
    "print()\n",
    "\n",
    "# Calculate the F-score for both the training subset and testing set for model 2\n",
    "train_F_score = fbeta_score(y_train, y_train_pred_2, beta=0.5)\n",
    "test_F_score = fbeta_score(y_test, y_test_pred_2, beta=0.5)\n",
    "print('The training F-score is', train_F_score)\n",
    "print('The test F-score is', train_F_score)\n",
    "print()"
   ]
  },
  {
   "cell_type": "code",
   "execution_count": 21,
   "metadata": {},
   "outputs": [
    {
     "name": "stdout",
     "output_type": "stream",
     "text": [
      "\n",
      "train score:\n",
      " [[0.64       0.72       0.72      ]\n",
      " [0.76470588 0.66666667 0.66666667]\n",
      " [0.74025974 0.74025974 0.74025974]\n",
      " [0.75728155 0.76699029 0.76699029]\n",
      " [0.74418605 0.70542636 0.72868217]\n",
      " [0.72258065 0.69032258 0.69032258]\n",
      " [0.74585635 0.71270718 0.69060773]\n",
      " [0.75845411 0.7294686  0.69082126]\n",
      " [0.74248927 0.7167382  0.7167382 ]\n",
      " [0.71814672 0.6988417  0.72972973]]\n",
      "\n",
      "train size :\n",
      " [ 25  51  77 103 129 155 181 207 233 259]\n",
      "\n",
      "train score mean:\n",
      " [0.69333333 0.69934641 0.74025974 0.76375405 0.72609819 0.70107527\n",
      " 0.71639042 0.72624799 0.72532189 0.71557272]\n",
      "\n",
      "test_score: \n",
      " [[0.60305344 0.58461538 0.58914729]\n",
      " [0.64122137 0.58461538 0.58914729]\n",
      " [0.70229008 0.66153846 0.59689922]\n",
      " [0.70992366 0.7        0.68217054]\n",
      " [0.70992366 0.75384615 0.68992248]\n",
      " [0.70992366 0.75384615 0.68217054]\n",
      " [0.70992366 0.75384615 0.68217054]\n",
      " [0.70992366 0.75384615 0.68217054]\n",
      " [0.70992366 0.75384615 0.68217054]\n",
      " [0.70992366 0.75384615 0.68217054]]\n",
      "test score mean:\n",
      " [0.59227204 0.60499468 0.65357592 0.69736474 0.71789743 0.71531345\n",
      " 0.71531345 0.71531345 0.71531345 0.71531345]\n",
      "\n",
      "\n"
     ]
    },
    {
     "data": {
      "image/png": "[encoded data removed]",
      "text/plain": [
       "<matplotlib.figure.Figure at 0x7f3b0269ffd0>"
      ]
     },
     "metadata": {
      "needs_background": "light"
     },
     "output_type": "display_data"
    }
   ],
   "source": [
    "from sklearn.ensemble import AdaBoostClassifier\n",
    "\n",
    "model_3 = AdaBoostClassifier()\n",
    "model_3.fit(X_train,y_train)\n",
    "y_train_pred_3 = model_3.predict(X_train)\n",
    "y_test_pred_3 = model_3.predict(X_test)\n",
    "\n",
    "print()\n",
    "#draw_learning_curves\n",
    "draw_learning_curves(features_final,target, model_2, num_trainings=10);\n",
    "print()"
   ]
  },
  {
   "cell_type": "code",
   "execution_count": 22,
   "metadata": {},
   "outputs": [
    {
     "name": "stdout",
     "output_type": "stream",
     "text": [
      "ensemble mehtod\n",
      "The training accuracy is 0.7852564102564102\n",
      "The test accuracy is 0.717948717948718\n",
      "\n",
      "The training F-score is 0.8103638368246968\n",
      "The test F-score is 0.8103638368246968\n"
     ]
    }
   ],
   "source": [
    "# Calculate the accuracy score for both the training  and testing set for model 3\n",
    "print('ensemble mehtod')\n",
    "train_accuracy = accuracy_score(y_train, y_train_pred_3)\n",
    "test_accuracy = accuracy_score(y_test, y_test_pred_3)\n",
    "print('The training accuracy is', train_accuracy)\n",
    "print('The test accuracy is', test_accuracy)\n",
    "print()\n",
    "\n",
    "# Calculate the F-score for both the training subset and testing set for model 3\n",
    "train_F_score = fbeta_score(y_train, y_train_pred_3, beta=0.5)\n",
    "test_F_score = fbeta_score(y_test, y_test_pred_3, beta=0.5)\n",
    "print('The training F-score is', train_F_score)\n",
    "print('The test F-score is', train_F_score)"
   ]
  },
  {
   "cell_type": "markdown",
   "metadata": {},
   "source": [
    "## which is the best model ?\n",
    "\n",
    "### The Ensemble Mehtod\n",
    "\n",
    "the  ensemble method achieve relatively high training accuracy is 0.78 & The test accuracy is 0.71 ,\n",
    "and the model not going towards over-fitting nor under-fitting."
   ]
  },
  {
   "cell_type": "markdown",
   "metadata": {},
   "source": [
    "----\n",
    "## Improving Results\n",
    "In this final section, you will choose from the three supervised learning models the *best* model to use on the student data. You will then perform a grid search optimization for the model over the entire training set (`X_train` and `y_train`) by tuning at least one parameter to improve upon the untuned model's F-score. "
   ]
  },
  {
   "cell_type": "markdown",
   "metadata": {},
   "source": [
    "### Describing the Model in Layman's Terms\n",
    "\n",
    "the AdaBoost will combine simple models (weak learner) such as Decision Tree to build more complicated model(strong learner)\n",
    "\n",
    "the first weak leaner will be set to maximize Accuracy and minimize the error after giving each point a constant weight of 1\n",
    " \n",
    " if there is some errors in our model , our second learner will focus on them to fix them  by maximizing the error at these points and as we said before the learner try to maximize the aacuracy by decreasing the error ,so if we punished the model by increasing the Weight  of error in this point and that will atract  the next learner to fix them this will be rebeated untill all points will be fixed  \n",
    " \n",
    " after this we will combine all waek leaner by adding the weight in positive area and subtract the weight for Negative area after combining all weak leaner  if the result of combining the weights for the same area is positve the outcome will be 1 and if the result of combining the weights for the same area is Negative  the outcome will be 0\n"
   ]
  },
  {
   "cell_type": "markdown",
   "metadata": {},
   "source": [
    "### Implementation: Model Tuning\n",
    "Fine tune the chosen model. Use grid search (`GridSearchCV`) with at least one important parameter tuned with at least 3 different values. You will need to use the entire training set for this. In the code cell below, you will need to implement the following:\n",
    "- Import [`sklearn.grid_search.GridSearchCV`](http://scikit-learn.org/0.17/modules/generated/sklearn.grid_search.GridSearchCV.html) and [`sklearn.metrics.make_scorer`](http://scikit-learn.org/stable/modules/generated/sklearn.metrics.make_scorer.html).\n",
    "- Initialize the classifier you've chosen and store it in `clf`.\n",
    " - Set a `random_state` if one is available to the same state you set before.\n",
    "- Create a dictionary of parameters you wish to tune for the chosen model.\n",
    " - Example: `parameters = {'parameter' : [list of values]}`.\n",
    " - **Note:** Avoid tuning the `max_features` parameter of your learner if that parameter is available!\n",
    "- Use `make_scorer` to create an `fbeta_score` scoring object (with $\\beta = 0.5$).\n",
    "- Perform grid search on the classifier `clf` using the `'scorer'`, and store it in `grid_obj`.\n",
    "- Fit the grid search object to the training data (`X_train`, `y_train`), and store it in `grid_fit`."
   ]
  },
  {
   "cell_type": "code",
   "execution_count": 23,
   "metadata": {},
   "outputs": [
    {
     "name": "stdout",
     "output_type": "stream",
     "text": [
      "step1\n",
      "step2\n",
      "step3\n",
      "step4\n",
      "step5\n",
      "step6\n",
      "step7\n",
      "step8\n",
      "Unoptimized model\n",
      "------\n",
      "Accuracy score on testing data: 0.7179\n",
      "F-score on testing data: 0.7906\n",
      "\n",
      "optimized Model\n",
      "------\n",
      "Final accuracy score on the testing data: 0.7564\n",
      "Final F-score on the testing data: 0.8333\n"
     ]
    },
    {
     "name": "stderr",
     "output_type": "stream",
     "text": [
      "/home/neo/anaconda3/envs/AI/lib/python3.6/site-packages/sklearn/model_selection/_search.py:814: DeprecationWarning: The default of the `iid` parameter will change from True to False in version 0.22 and will be removed in 0.24. This will change numeric results when test-set sizes are unequal.\n",
      "  DeprecationWarning)\n"
     ]
    },
    {
     "data": {
      "text/plain": [
       "AdaBoostClassifier(algorithm='SAMME.R', base_estimator=None, learning_rate=1,\n",
       "                   n_estimators=3, random_state=1)"
      ]
     },
     "execution_count": 23,
     "metadata": {},
     "output_type": "execute_result"
    }
   ],
   "source": [
    "# Import 'GridSearchCV', 'make_scorer', and any other necessary libraries\n",
    "from sklearn.ensemble import AdaBoostClassifier\n",
    "from sklearn.metrics import make_scorer\n",
    "from sklearn.model_selection import GridSearchCV\n",
    "from sklearn.metrics import fbeta_score, accuracy_score\n",
    "# Initialize the classifier\n",
    "print(\"step1\")\n",
    "clf = AdaBoostClassifier(random_state = 1)\n",
    "print(\"step2\")\n",
    "#  Create the parameters list you wish to tune, using a dictionary if needed.\n",
    "\n",
    "parameters = {'n_estimators' : [1,2,3,4], 'learning_rate' : [0.8,1,1.5,2]}\n",
    "print(\"step3\")\n",
    "# Make an fbeta_score scoring object using make_scorer()\n",
    "scorer = make_scorer(fbeta_score, beta=0.5)\n",
    "\n",
    "print(\"step4\")\n",
    "# Perform grid search on the classifier using 'scorer' as the scoring method using GridSearchCV()\n",
    "grid_obj = GridSearchCV(clf, parameters, scoring=scorer)\n",
    "print(\"step5\")\n",
    "# Fit the grid search object to the training data and find the optimal parameters using fit()\n",
    "grid_fit = grid_obj.fit(X_train, y_train)\n",
    "print(\"step6\")\n",
    "# Get the estimator\n",
    "best_clf = grid_fit.best_estimator_\n",
    "print(\"step7\")\n",
    "# Make predictions using the unoptimized and model\n",
    "predictions = (clf.fit(X_train, y_train)).predict(X_test)\n",
    "print(\"step8\")\n",
    "best_predictions = best_clf.predict(X_test)\n",
    "\n",
    "# Report the before-and-afterscores\n",
    "print(\"Unoptimized model\\n------\")\n",
    "print(\"Accuracy score on testing data: {:.4f}\".format(accuracy_score(y_test, predictions)))\n",
    "print(\"F-score on testing data: {:.4f}\".format(fbeta_score(y_test, predictions, beta = 0.5)))\n",
    "print(\"\\noptimized Model\\n------\")\n",
    "print(\"Final accuracy score on the testing data: {:.4f}\".format(accuracy_score(y_test, best_predictions)))\n",
    "print(\"Final F-score on the testing data: {:.4f}\".format(fbeta_score(y_test, best_predictions, beta = 0.5)))\n",
    "\n",
    "best_clf"
   ]
  },
  {
   "cell_type": "markdown",
   "metadata": {},
   "source": [
    "---\n",
    "###  Final Model Evaluation\n",
    "\n",
    "#### Results:\n",
    "\n",
    "|     Metric     | Unoptimized Model | Optimized Model |\n",
    "| :------------: | :---------------: | :-------------: | \n",
    "| Accuracy Score | 0.7179                 | 0.7564|\n",
    "| F-score        | 0.7906                  |  0.8333       |\n"
   ]
  },
  {
   "cell_type": "markdown",
   "metadata": {},
   "source": [
    "the optimized model's accuracy is 0.7564 and the optimized model's F-score is 0.8333 and for sure it is better than the unoptimized model accuracy = 0.7179 and  unoptimized model F-score= 0.7906\n",
    "\n",
    "The accuracy and F-score improved alot if we compare it to the  naive predictor where the Naive Predictor: Accuracy score: 0.5872, F-score: 0.6400"
   ]
  },
  {
   "cell_type": "code",
   "execution_count": null,
   "metadata": {},
   "outputs": [],
   "source": []
  }
 ],
 "metadata": {
  "kernelspec": {
   "display_name": "Python 3",
   "language": "python",
   "name": "python3"
  },
  "language_info": {
   "codemirror_mode": {
    "name": "ipython",
    "version": 3
   },
   "file_extension": ".py",
   "mimetype": "text/x-python",
   "name": "python",
   "nbconvert_exporter": "python",
   "pygments_lexer": "ipython3",
   "version": "3.6.6"
  }
 },
 "nbformat": 4,
 "nbformat_minor": 2
}
